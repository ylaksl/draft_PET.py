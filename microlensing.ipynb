{
 "cells": [
  {
   "cell_type": "markdown",
   "id": "55568169",
   "metadata": {},
   "source": [
    "# **Simulação de Evento de Microlentes Gravitacionais**\n",
    "* PET - Física\n",
    "* Petianos: Ylana Karolina Santos Lopes\n",
    "* Data: ?? de ?? de 2024\n",
    "\n",
    "O objetivo desse `notebook` é discutir um pouco sobre as microlentes gravitacionais através de uma simulação de um evento com lentes iguais de mesma massa e produzir uma curva de luz artificial da mesma. Ao longo do texto, trataremos um pouco da teoria por trás das microlentes, mas sem adentrar em relatividade geral, de forma que não é necessário conhecimento prévio no assunto. Com isso, o `notebook` será organizado da seguinte forma:\n",
    "\n",
    "1. *Introdução*;\n",
    "2. *Distribuição de Arquimendes*;\n",
    "2. *Teoria das Microlentes*;\n",
    "3. *Simulação*."
   ]
  },
  {
   "cell_type": "markdown",
   "id": "292473fd",
   "metadata": {},
   "source": [
    "## Importando biblioteca"
   ]
  },
  {
   "cell_type": "code",
   "execution_count": null,
   "id": "3ecdb130",
   "metadata": {},
   "outputs": [
    {
     "ename": "",
     "evalue": "",
     "output_type": "error",
     "traceback": [
      "\u001b[1;31mRunning cells with 'Python 3.11.1' requires the ipykernel package.\n",
      "\u001b[1;31mRun the following command to install 'ipykernel' into the Python environment. \n",
      "\u001b[1;31mCommand: 'c:/Users/ylana/AppData/Local/Programs/Python/Python311/python.exe -m pip install ipykernel -U --user --force-reinstall'"
     ]
    }
   ],
   "source": [
    "import numpy as np\n",
    "import matplotlib.pyplot as plt\n",
    "import pandas as pd\n",
    "\n",
    "\n",
    "%matplotlib inline"
   ]
  },
  {
   "cell_type": "code",
   "execution_count": null,
   "id": "27283b72",
   "metadata": {},
   "outputs": [],
   "source": [
    "def arquimedes(num_points):\n",
    "    \n",
    "    # Definindo o ângulo de ouro\n",
    "    golden_angle = np.pi * (3 - np.sqrt(5))\n",
    "    \n",
    "    # Cálculo dos ângulos usando o ângulo de ouro\n",
    "    theta = golden_angle * np.arange(num_points)\n",
    "    \n",
    "    # Raio\n",
    "    r = np.sqrt(theta)\n",
    "    \n",
    "    # Coordenadas\n",
    "    x = r * np.cos(theta)/(num_points/1000)\n",
    "    y = r * np.sin(theta)/(num_points/1000)\n",
    "\n",
    "    return x, y"
   ]
  },
  {
   "cell_type": "code",
   "execution_count": null,
   "id": "25d8cae3",
   "metadata": {},
   "outputs": [],
   "source": [
    "x, y = arquimedes(1000)\n",
    "plt.figure(figsize=(5, 5))\n",
    "plt.scatter(x,y, s = 1)"
   ]
  },
  {
   "cell_type": "code",
   "execution_count": null,
   "id": "c2a7f4d0",
   "metadata": {},
   "outputs": [],
   "source": [
    "\n",
    "def cart(zix, ziy, r1, r2, e):\n",
    "    e1 = e[0]     #=> fração da massa \n",
    "    r1x = r1[0]    #=> posição da lente j em relação a origem\n",
    "    r1y = r1[1]\n",
    "    e2 = e[1]     #=> fração da massa \n",
    "    r2x = r2[0]\n",
    "    r2y = r2[1]\n",
    "\n",
    "\n",
    "    zfx = zix - (e1/np.sqrt((zix-r1x)**2 + (ziy-r1y)**2))*(zix - r1x) - (e2/np.sqrt((zix-r2x)**2 + (ziy-r2y)**2))*(zix - r2x)\n",
    "    zfy = ziy - (e1/np.sqrt((zix-r1x)**2 + (ziy-r1y)**2))*(ziy - r1y)- (e2/np.sqrt((zix-r2x)**2 + (ziy-r2y)**2))*(ziy - r2y)\n",
    "    return zfx, zfy"
   ]
  },
  {
   "cell_type": "code",
   "execution_count": null,
   "id": "5724487b",
   "metadata": {},
   "outputs": [],
   "source": [
    "e = [0.5,0.5] # -> fração da massa\n",
    "r1 = [-0.75, 0] # -> posição das lentes\n",
    "r2 = [0.75, 0]\n",
    "\n",
    "zix, ziy = arquimedes(500000)\n",
    "\n",
    "x1, y1 = cart(zix, ziy, r1, r2, e)"
   ]
  },
  {
   "cell_type": "code",
   "execution_count": null,
   "id": "13dd3ef2",
   "metadata": {},
   "outputs": [],
   "source": [
    "\n",
    "plt.figure(figsize=(5, 5))\n",
    "plt.scatter(x1, y1, s = 1, c = 'black')"
   ]
  },
  {
   "cell_type": "code",
   "execution_count": null,
   "id": "3a8b0746",
   "metadata": {},
   "outputs": [],
   "source": [
    "plt.figure(figsize=(5, 5))\n",
    "plt.hist2d(x1, y1, bins = 1000,  cmap =\"hot\", vmin=0, vmax=45)\n",
    "#plt.scatter(xp, yp, s = 0.01, c = 'white')"
   ]
  },
  {
   "cell_type": "code",
   "execution_count": null,
   "id": "be2eaab8",
   "metadata": {},
   "outputs": [],
   "source": [
    "grid_size = 0.01\n",
    "x_edges = np.arange(-1.5, 1.5, grid_size)\n",
    "y_edges = np.arange(-1.5, 1.5, grid_size)\n",
    "\n",
    "hist, xedges, yedges = np.histogram2d(x1, y1, bins=[x_edges, y_edges])\n",
    "\n",
    "# Calculate bin width and height\n",
    "bin_width = x_edges[1] - x_edges[0]\n",
    "bin_height = y_edges[1] - y_edges[0]"
   ]
  },
  {
   "cell_type": "code",
   "execution_count": null,
   "id": "5f6e0ebb",
   "metadata": {},
   "outputs": [],
   "source": [
    "passo = 1000\n",
    "alpha = 0.8\n",
    "inter = 0\n",
    "b = inter/np.cos(alpha)\n",
    "\n",
    "xp = np.linspace(-1.5, 1.5, passo)\n",
    "yp = np.tan(alpha)*xp + b"
   ]
  },
  {
   "cell_type": "code",
   "execution_count": null,
   "id": "a457948d",
   "metadata": {},
   "outputs": [],
   "source": [
    "plt.hist2d(x1, y1, bins = 1000,  cmap =\"hot\", vmin=0, vmax=45)\n",
    "plt.scatter(xp, yp, s = 1, c = 'red')\n",
    "plt.xlim(-1.5, 1.5)\n",
    "plt.ylim(-1.5,1.5)"
   ]
  },
  {
   "cell_type": "code",
   "execution_count": null,
   "id": "7bac3aee",
   "metadata": {},
   "outputs": [],
   "source": [
    "density = []\n",
    "\n",
    "for i in range(0,passo):\n",
    "    point_x = xp[i]\n",
    "    point_y = yp[i]\n",
    "\n",
    "    x_bin = np.digitize(point_x, x_edges) - 1\n",
    "    y_bin = np.digitize(point_y, y_edges) - 1\n",
    "\n",
    "    x_bin = min(max(x_bin, 0), hist.shape[0] - 1)\n",
    "    y_bin = min(max(y_bin, 0), hist.shape[1] - 1)\n",
    "\n",
    "    num_points_in_bin = hist[x_bin, y_bin]\n",
    "\n",
    "    density_1 = num_points_in_bin / (bin_width * bin_height)\n",
    "    density.append(density_1)"
   ]
  },
  {
   "cell_type": "code",
   "execution_count": null,
   "id": "d57514d0",
   "metadata": {},
   "outputs": [],
   "source": [
    "plt.figure(figsize=(8, 7))\n",
    "plt.plot(xp, density)\n",
    "plt.ylabel(\"Count\")\n",
    "#plt.xlim(-0.5, 0.5)\n",
    "plt.xlabel(\"x\")"
   ]
  }
 ],
 "metadata": {
  "kernelspec": {
   "display_name": "Python 3 (ipykernel)",
   "language": "python",
   "name": "python3"
  },
  "language_info": {
   "codemirror_mode": {
    "name": "ipython",
    "version": 3
   },
   "file_extension": ".py",
   "mimetype": "text/x-python",
   "name": "python",
   "nbconvert_exporter": "python",
   "pygments_lexer": "ipython3",
   "version": "3.11.1"
  }
 },
 "nbformat": 4,
 "nbformat_minor": 5
}
