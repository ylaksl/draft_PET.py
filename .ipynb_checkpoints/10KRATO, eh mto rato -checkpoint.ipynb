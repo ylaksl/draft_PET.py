{
 "cells": [
  {
   "cell_type": "markdown",
   "id": "6e09827a",
   "metadata": {},
   "source": [
    "# Pet.py - O coliseu"
   ]
  },
  {
   "cell_type": "markdown",
   "id": "1ddc24de",
   "metadata": {},
   "source": [
    "| Item              | Velocidade | Peso | Número inicial | letalidade | Resistência |\n",
    "| :---------------- | :------: | ----: |:----:|----:|----:|\n",
    "| Ratos             |   True   | 23.99 | 10.000 |\n",
    "| Harpias           |   True   | 23.99 | 40 |\n",
    "| Búfalos           |  False   | 19.99 | 7 |\n",
    "| Gorilas           |  False   | 42.99 | 5 |\n",
    "| lobos           |  False   | 42.99 | 15 |\n",
    "\n"
   ]
  },
  {
   "cell_type": "markdown",
   "id": "94d91116",
   "metadata": {},
   "source": [
    "## estimar efeito da espécie $i$ na espécie $j$\n",
    "\n",
    "We define the time-dependent interaction coefficient \\( a_{ij}(t) \\) as:\n",
    "$$\n",
    "\\[\n",
    "a_{ij}(t) = \\text{letality}_j \\cdot \\left( \\frac{\\text{weight}_j}{\\text{weight}_i} \\right) \\cdot \\left( \\frac{\\text{velocity}_j}{\\text{velocity}_i} \\right) \\cdot \\left[ \\varepsilon + \\left(1 - \\frac{R_i(t)}{R_{i,0}} \\right) \\right]\n",
    "\\]\n",
    "$$\n",
    "\n",
    "$$\n",
    "- \\( \\text{letality}_j \\): Lethality of species \\( j \\)\n",
    "\n",
    "- \\( \\text{weight}_i, \\text{weight}_j \\): Weights of species \\( i \\) and \\( j \\)\n",
    "\n",
    "- \\( \\text{velocity}_i, \\text{velocity}_j \\): Speeds of species \\( i \\) and \\( j \\)\n",
    "\n",
    "- \\( R_i(t) \\): Resistance of species \\( i \\) at time \\( t \\)\n",
    "\n",
    "- \\( R_{i,0} \\): Initial resistance of species \\( i \\)\n",
    "\n",
    "- \\( \\varepsilon \\): Small baseline constant (e.g., 0.05) to ensure non-zero interaction at the start\n",
    "$$\n",
    "\n",
    "\n",
    "na vdd a cada interação precisa de outro coeficiente que diminua a resitencia do animal\n",
    "\n",
    "j atacando i vs i atacando j -> maior dos 2 ganha?\n",
    "\n",
    "se $R_i(t) = 0$, morreu."
   ]
  },
  {
   "cell_type": "code",
   "execution_count": null,
   "id": "a2cf071a",
   "metadata": {},
   "outputs": [],
   "source": []
  }
 ],
 "metadata": {
  "kernelspec": {
   "display_name": "Python 3 (ipykernel)",
   "language": "python",
   "name": "python3"
  },
  "language_info": {
   "codemirror_mode": {
    "name": "ipython",
    "version": 3
   },
   "file_extension": ".py",
   "mimetype": "text/x-python",
   "name": "python",
   "nbconvert_exporter": "python",
   "pygments_lexer": "ipython3",
   "version": "3.11.8"
  }
 },
 "nbformat": 4,
 "nbformat_minor": 5
}
