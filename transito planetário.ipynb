{
 "cells": [
  {
   "cell_type": "code",
   "execution_count": null,
   "metadata": {},
   "outputs": [],
   "source": [
    "import lightkurve as  lk\n",
    "import numpy as np\n",
    "import matplotlib.pyplot as plt \n",
    "import pandas as pd\n",
    "\n",
    "%matplotlib inline\n",
    "\n",
    "## usar astropy diireto, lightkurv eh mto prontoo"
   ]
  },
  {
   "cell_type": "markdown",
   "metadata": {},
   "source": [
    "teste"
   ]
  }
 ],
 "metadata": {
  "language_info": {
   "name": "python"
  }
 },
 "nbformat": 4,
 "nbformat_minor": 2
}
