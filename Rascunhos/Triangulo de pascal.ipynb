{
 "cells": [
  {
   "cell_type": "code",
   "execution_count": 95,
   "id": "8fa37c0c",
   "metadata": {},
   "outputs": [],
   "source": [
    "import numpy as np\n",
    "import matplotlib.pyplot as plt"
   ]
  },
  {
   "cell_type": "code",
   "execution_count": 248,
   "id": "4dee284a",
   "metadata": {},
   "outputs": [],
   "source": [
    "def eh_impar(x):\n",
    "    if x % 2 != 0:\n",
    "        return x\n",
    "    else:\n",
    "        return 2*x + 1"
   ]
  },
  {
   "cell_type": "code",
   "execution_count": 249,
   "id": "0a8a5a7b",
   "metadata": {},
   "outputs": [],
   "source": [
    "n = eh_impar(7)\n",
    "\n",
    "matriz = np.zeros([n,2*n +1])"
   ]
  },
  {
   "cell_type": "code",
   "execution_count": 250,
   "id": "b46899b9",
   "metadata": {},
   "outputs": [
    {
     "data": {
      "text/plain": [
       "7"
      ]
     },
     "execution_count": 250,
     "metadata": {},
     "output_type": "execute_result"
    }
   ],
   "source": [
    "n"
   ]
  },
  {
   "cell_type": "code",
   "execution_count": 251,
   "id": "f66676ff",
   "metadata": {},
   "outputs": [
    {
     "data": {
      "text/plain": [
       "array([[0., 0., 0., 0., 0., 0., 0., 1., 0., 0., 0., 0., 0., 0., 0.],\n",
       "       [0., 0., 0., 0., 0., 0., 0., 0., 0., 0., 0., 0., 0., 0., 0.],\n",
       "       [0., 0., 0., 0., 0., 0., 0., 0., 0., 0., 0., 0., 0., 0., 0.],\n",
       "       [0., 0., 0., 0., 0., 0., 0., 0., 0., 0., 0., 0., 0., 0., 0.],\n",
       "       [0., 0., 0., 0., 0., 0., 0., 0., 0., 0., 0., 0., 0., 0., 0.],\n",
       "       [0., 0., 0., 0., 0., 0., 0., 0., 0., 0., 0., 0., 0., 0., 0.],\n",
       "       [0., 0., 0., 0., 0., 0., 0., 0., 0., 0., 0., 0., 0., 0., 0.]])"
      ]
     },
     "execution_count": 251,
     "metadata": {},
     "output_type": "execute_result"
    }
   ],
   "source": [
    "matriz[0][int(n)] = 1\n",
    "\n",
    "matriz\n",
    "\n",
    "\n",
    "#for i in range(int(n/2)):\n",
    "    "
   ]
  },
  {
   "cell_type": "code",
   "execution_count": 258,
   "id": "de9a694b",
   "metadata": {},
   "outputs": [],
   "source": [
    "for i in range(n-1):\n",
    "    for j in range(2*n-2):\n",
    "        if matriz[i][j] != 0:\n",
    "            matriz[i+1][j-1] = int(matriz[i][j] + matriz[i][j-2])\n",
    "            matriz[i+1][j+1] = int(matriz[i][j] + matriz[i][j+2])\n",
    "        \n",
    "    "
   ]
  },
  {
   "cell_type": "code",
   "execution_count": 259,
   "id": "fcbbcbe3",
   "metadata": {
    "scrolled": true
   },
   "outputs": [
    {
     "data": {
      "text/plain": [
       "array([[ 0.,  0.,  0.,  0.,  0.,  0.,  0.,  1.,  0.,  0.,  0.,  0.,  0.,\n",
       "         0.,  0.],\n",
       "       [ 0.,  0.,  0.,  0.,  0.,  0.,  1.,  0.,  1.,  0.,  0.,  0.,  0.,\n",
       "         0.,  0.],\n",
       "       [ 0.,  0.,  0.,  0.,  0.,  1.,  0.,  2.,  0.,  1.,  0.,  0.,  0.,\n",
       "         0.,  0.],\n",
       "       [ 0.,  0.,  0.,  0.,  1.,  0.,  3.,  0.,  3.,  0.,  1.,  0.,  0.,\n",
       "         0.,  0.],\n",
       "       [ 0.,  0.,  0.,  1.,  0.,  4.,  0.,  6.,  0.,  4.,  0.,  1.,  0.,\n",
       "         0.,  0.],\n",
       "       [ 0.,  0.,  1.,  0.,  5.,  0., 10.,  0., 10.,  0.,  5.,  0.,  1.,\n",
       "         0.,  0.],\n",
       "       [ 0.,  1.,  0.,  6.,  0., 15.,  0., 20.,  0., 15.,  0.,  6.,  0.,\n",
       "         0.,  0.]])"
      ]
     },
     "execution_count": 259,
     "metadata": {},
     "output_type": "execute_result"
    }
   ],
   "source": [
    "matriz"
   ]
  },
  {
   "cell_type": "code",
   "execution_count": 260,
   "id": "2ff2676f",
   "metadata": {
    "scrolled": true
   },
   "outputs": [
    {
     "data": {
      "image/png": "[encoded data removed]",
      "text/plain": [
       "<Figure size 1028.57x480 with 1 Axes>"
      ]
     },
     "metadata": {},
     "output_type": "display_data"
    }
   ],
   "source": [
    "plt.matshow(matriz, cmap = 'binary', vmin = 0)\n",
    "\n",
    "#for (i, j), z in np.ndenumerate(matriz):\n",
    "#    if z != 0:\n",
    "#        plt.text(j, i, '{:0.1f}'.format(z), ha='center', va='center')\n",
    "    \n",
    "plt.show()"
   ]
  },
  {
   "cell_type": "code",
   "execution_count": null,
   "id": "2ef75a92",
   "metadata": {},
   "outputs": [],
   "source": []
  },
  {
   "cell_type": "code",
   "execution_count": 261,
   "id": "4e6dd0a0",
   "metadata": {},
   "outputs": [],
   "source": [
    "## agora q temos a matriz, podemos brincar com ela\n",
    "\n",
    "for i in range(n):\n",
    "    for j in range(2*n):\n",
    "        if matriz[i][j] != 0:\n",
    "            if matriz[i][j] % 2 == 1:\n",
    "                matriz[i][j] = 1\n",
    "            \n",
    "            if matriz[i][j] % 2 == 0:\n",
    "                matriz[i][j] = 0\n",
    "                \n",
    "            \n",
    "            \n",
    "        "
   ]
  },
  {
   "cell_type": "code",
   "execution_count": 256,
   "id": "8a813ec9",
   "metadata": {},
   "outputs": [
    {
     "data": {
      "text/plain": [
       "<matplotlib.image.AxesImage at 0x15fb7112610>"
      ]
     },
     "execution_count": 256,
     "metadata": {},
     "output_type": "execute_result"
    },
    {
     "data": {
      "image/png": "[encoded data removed]",
      "text/plain": [
       "<Figure size 1028.57x480 with 1 Axes>"
      ]
     },
     "metadata": {},
     "output_type": "display_data"
    }
   ],
   "source": [
    "plt.matshow(matriz, cmap='binary')\n",
    "\n"
   ]
  },
  {
   "cell_type": "markdown",
   "id": "c0009fe8",
   "metadata": {},
   "source": [
    "## Referências"
   ]
  },
  {
   "cell_type": "code",
   "execution_count": null,
   "id": "38d3efd6",
   "metadata": {},
   "outputs": [],
   "source": []
  },
  {
   "cell_type": "code",
   "execution_count": null,
   "id": "b2fe132b",
   "metadata": {},
   "outputs": [],
   "source": []
  },
  {
   "cell_type": "code",
   "execution_count": null,
   "id": "698667fd",
   "metadata": {},
   "outputs": [],
   "source": []
  },
  {
   "cell_type": "code",
   "execution_count": null,
   "id": "b4b144cb",
   "metadata": {},
   "outputs": [],
   "source": []
  },
  {
   "cell_type": "code",
   "execution_count": 8,
   "id": "7a2e5481",
   "metadata": {},
   "outputs": [],
   "source": []
  },
  {
   "cell_type": "code",
   "execution_count": null,
   "id": "585ddb20",
   "metadata": {},
   "outputs": [],
   "source": []
  }
 ],
 "metadata": {
  "kernelspec": {
   "display_name": "Python 3 (ipykernel)",
   "language": "python",
   "name": "python3"
  },
  "language_info": {
   "codemirror_mode": {
    "name": "ipython",
    "version": 3
   },
   "file_extension": ".py",
   "mimetype": "text/x-python",
   "name": "python",
   "nbconvert_exporter": "python",
   "pygments_lexer": "ipython3",
   "version": "3.11.8"
  }
 },
 "nbformat": 4,
 "nbformat_minor": 5
}
